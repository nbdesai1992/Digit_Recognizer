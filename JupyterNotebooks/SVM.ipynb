{
 "cells": [
  {
   "cell_type": "code",
   "execution_count": 2,
   "metadata": {},
   "outputs": [],
   "source": [
    "from tensorflow.keras.datasets import mnist\n",
    "import numpy as np"
   ]
  },
  {
   "cell_type": "code",
   "execution_count": 3,
   "metadata": {},
   "outputs": [],
   "source": [
    "(train_X, train_y), (test_X, test_y) = mnist.load_data()"
   ]
  },
  {
   "cell_type": "code",
   "execution_count": 4,
   "metadata": {},
   "outputs": [
    {
     "name": "stdout",
     "output_type": "stream",
     "text": [
      "X_train: (60000, 28, 28)\n",
      "Y_train: (60000,)\n",
      "X_test:  (10000, 28, 28)\n",
      "Y_test:  (10000,)\n"
     ]
    }
   ],
   "source": [
    "print('X_train: ' + str(train_X.shape))\n",
    "print('Y_train: ' + str(train_y.shape))\n",
    "print('X_test:  '  + str(test_X.shape))\n",
    "print('Y_test:  '  + str(test_y.shape))"
   ]
  },
  {
   "cell_type": "code",
   "execution_count": 5,
   "metadata": {},
   "outputs": [
    {
     "data": {
      "image/png": "[encoded data removed]",
      "text/plain": [
       "<Figure size 432x288 with 1 Axes>"
      ]
     },
     "metadata": {
      "needs_background": "light"
     },
     "output_type": "display_data"
    }
   ],
   "source": [
    "import matplotlib.pyplot as plt \n",
    "plt.imshow(train_X[5])\n",
    "plt.show()"
   ]
  },
  {
   "cell_type": "code",
   "execution_count": 6,
   "metadata": {},
   "outputs": [],
   "source": [
    "# reshape datasets, create toy model for initial experimentation \n",
    "POC = train_X[0:599]\n",
    "num,d1,d2 = POC.shape\n",
    "POC = POC.reshape((num, d1 * d2))\n",
    "POC_lbl = train_y[0:599]\n",
    "\n",
    "POC_tst = train_X[400:599]\n",
    "num,d1,d2 = POC_tst.shape\n",
    "POC_tst = POC_tst.reshape((num, d1 * d2))\n",
    "POC_lbl_tst = train_y[400:599]\n",
    "\n",
    "num,d1,d2 = train_X.shape\n",
    "train_X_transform = train_X.reshape((num, d1*d2))\n",
    "num,d1,d2 = test_X.shape\n",
    "test_X_transform = test_X.reshape((num, d1*d2))"
   ]
  },
  {
   "cell_type": "code",
   "execution_count": 18,
   "metadata": {},
   "outputs": [],
   "source": [
    "from sklearn import svm"
   ]
  },
  {
   "cell_type": "code",
   "execution_count": 30,
   "metadata": {},
   "outputs": [
    {
     "name": "stdout",
     "output_type": "stream",
     "text": [
      "l1 regularization, squared hinge loss:  0.9165\n",
      "l2 regularization, squared hinge loss:  0.9181\n"
     ]
    }
   ],
   "source": [
    "# use l1 regularization for linear SVC\n",
    "svm_model = svm.LinearSVC(penalty='l1', loss='squared_hinge', dual=False, tol=0.001, C=1)\n",
    "svm_model.fit(train_X_transform,train_y)\n",
    "score = svm_model.score(test_X_transform, test_y)\n",
    "print('l1 regularization, squared hinge loss: ', score)\n",
    "\n",
    "# use l2 regularization and squared hinge loss\n",
    "svm_model = svm.LinearSVC(penalty='l2', loss='squared_hinge', dual=False, tol=0.001, C=1)\n",
    "svm_model.fit(train_X_transform,train_y)\n",
    "score = svm_model.score(test_X_transform, test_y)\n",
    "print('l2 regularization, squared hinge loss: ', score)"
   ]
  },
  {
   "cell_type": "code",
   "execution_count": 35,
   "metadata": {},
   "outputs": [
    {
     "name": "stderr",
     "output_type": "stream",
     "text": [
      "/Users/nealdesai/opt/anaconda3/lib/python3.8/site-packages/sklearn/svm/_base.py:976: ConvergenceWarning: Liblinear failed to converge, increase the number of iterations.\n",
      "  warnings.warn(\"Liblinear failed to converge, increase \"\n"
     ]
    },
    {
     "name": "stdout",
     "output_type": "stream",
     "text": [
      "0.844\n"
     ]
    },
    {
     "name": "stderr",
     "output_type": "stream",
     "text": [
      "/Users/nealdesai/opt/anaconda3/lib/python3.8/site-packages/sklearn/svm/_base.py:976: ConvergenceWarning: Liblinear failed to converge, increase the number of iterations.\n",
      "  warnings.warn(\"Liblinear failed to converge, increase \"\n"
     ]
    },
    {
     "name": "stdout",
     "output_type": "stream",
     "text": [
      "0.814\n"
     ]
    },
    {
     "name": "stderr",
     "output_type": "stream",
     "text": [
      "/Users/nealdesai/opt/anaconda3/lib/python3.8/site-packages/sklearn/svm/_base.py:976: ConvergenceWarning: Liblinear failed to converge, increase the number of iterations.\n",
      "  warnings.warn(\"Liblinear failed to converge, increase \"\n"
     ]
    },
    {
     "name": "stdout",
     "output_type": "stream",
     "text": [
      "0.825\n",
      "0.826\n",
      "C =  0.01 , Accuracy =  0.844\n",
      "C =  0.1 , Accuracy =  0.814\n",
      "C =  1 , Accuracy =  0.825\n",
      "C =  10 , Accuracy =  0.826\n"
     ]
    },
    {
     "name": "stderr",
     "output_type": "stream",
     "text": [
      "/Users/nealdesai/opt/anaconda3/lib/python3.8/site-packages/sklearn/svm/_base.py:976: ConvergenceWarning: Liblinear failed to converge, increase the number of iterations.\n",
      "  warnings.warn(\"Liblinear failed to converge, increase \"\n"
     ]
    }
   ],
   "source": [
    "# Regularization Parameter Tests\n",
    "CVals = [0.01, 0.1, 1, 10]\n",
    "l1Scores = []\n",
    "\n",
    "for i in range(len(CVals)):\n",
    "    # use l1 regularization for linear SVC\n",
    "    svm_model = svm.LinearSVC(penalty='l1', loss='squared_hinge', dual=False, tol=0.001, C=CVals[i])\n",
    "    svm_model.fit(train_X_transform[0:5000],train_y[0:5000])\n",
    "    l1Scores.append(svm_model.score(test_X_transform[0:1000], test_y[0:1000]))\n",
    "    print(l1Scores[i])\n",
    "\n",
    "for i,e in enumerate(l1Scores):\n",
    "    print('C = ', CVals[i], ', Accuracy = ', l1Scores[i])\n"
   ]
  },
  {
   "cell_type": "code",
   "execution_count": 36,
   "metadata": {},
   "outputs": [
    {
     "name": "stdout",
     "output_type": "stream",
     "text": [
      "0.81\n",
      "0.808\n",
      "0.802\n",
      "0.797\n",
      "C =  0.01 , Accuracy =  0.81\n",
      "C =  0.1 , Accuracy =  0.808\n",
      "C =  1 , Accuracy =  0.802\n",
      "C =  10 , Accuracy =  0.797\n"
     ]
    }
   ],
   "source": [
    "l2Scores = []\n",
    "\n",
    "for i in range(len(CVals)):\n",
    "    # use l2 regularization for linear SVC\n",
    "    svm_model = svm.LinearSVC(penalty='l2', loss='squared_hinge', dual=False, tol=0.001, C=CVals[i])\n",
    "    svm_model.fit(train_X_transform[0:5000],train_y[0:5000])\n",
    "    l2Scores.append(svm_model.score(test_X_transform[0:1000], test_y[0:1000]))\n",
    "    print(l2Scores[i])\n",
    "\n",
    "for i,e in enumerate(l2Scores):\n",
    "    print('C = ', CVals[i], ', Accuracy = ', l2Scores[i])"
   ]
  },
  {
   "cell_type": "code",
   "execution_count": 46,
   "metadata": {},
   "outputs": [
    {
     "name": "stdout",
     "output_type": "stream",
     "text": [
      "l1 regularization, squared hinge loss:  0.9179\n",
      "l2 regularization, squared hinge loss:  0.9175\n"
     ]
    }
   ],
   "source": [
    "# use l1 regularization for linear SVC\n",
    "svm_model = svm.LinearSVC(penalty='l1', loss='squared_hinge', dual=False, tol=0.001, C=0.01)\n",
    "svm_model.fit(train_X_transform,train_y)\n",
    "score = svm_model.score(test_X_transform, test_y)\n",
    "print('l1 regularization, squared hinge loss: ', score)\n",
    "\n",
    "# use l2 regularization and squared hinge loss\n",
    "svm_model = svm.LinearSVC(penalty='l2', loss='squared_hinge', dual=False, tol=0.001, C=0.01)\n",
    "svm_model.fit(train_X_transform,train_y)\n",
    "score = svm_model.score(test_X_transform, test_y)\n",
    "print('l2 regularization, squared hinge loss: ', score)"
   ]
  },
  {
   "cell_type": "code",
   "execution_count": 43,
   "metadata": {},
   "outputs": [
    {
     "name": "stdout",
     "output_type": "stream",
     "text": [
      "0.545\n",
      "0.89\n",
      "0.936\n",
      "0.945\n",
      "0.945\n",
      "C =  0.01 , Accuracy =  0.545\n",
      "C =  0.1 , Accuracy =  0.89\n",
      "C =  1 , Accuracy =  0.936\n",
      "C =  10 , Accuracy =  0.945\n",
      "C =  100 , Accuracy =  0.945\n"
     ]
    }
   ],
   "source": [
    "# Regularization Parameter Tests\n",
    "CVals = [0.01, 0.1, 1, 10, 100]\n",
    "rbfScores = []\n",
    "\n",
    "for i in range(len(CVals)):\n",
    "    # use l1 regularization for linear SVC\n",
    "    svm_model = svm.SVC(C = CVals[i], kernel='rbf')\n",
    "    svm_model.fit(train_X_transform[0:5000],train_y[0:5000])\n",
    "    rbfScores.append(svm_model.score(test_X_transform[0:1000], test_y[0:1000]))\n",
    "    print(rbfScores[i])\n",
    "\n",
    "for i,e in enumerate(rbfScores):\n",
    "    print('C = ', CVals[i], ', Accuracy = ', rbfScores[i])"
   ]
  },
  {
   "cell_type": "code",
   "execution_count": 44,
   "metadata": {},
   "outputs": [
    {
     "name": "stdout",
     "output_type": "stream",
     "text": [
      "0.48\n",
      "0.83\n",
      "0.919\n",
      "0.926\n",
      "0.928\n",
      "C =  0.01 , Accuracy =  0.48\n",
      "C =  0.1 , Accuracy =  0.83\n",
      "C =  1 , Accuracy =  0.919\n",
      "C =  10 , Accuracy =  0.926\n",
      "C =  100 , Accuracy =  0.928\n"
     ]
    }
   ],
   "source": [
    "# Regularization Parameter Tests\n",
    "CVals = [0.01, 0.1, 1, 10, 100]\n",
    "polyScores = []\n",
    "\n",
    "for i in range(len(CVals)):\n",
    "    # use l1 regularization for linear SVC\n",
    "    svm_model = svm.SVC(C = CVals[i], kernel='poly')\n",
    "    svm_model.fit(train_X_transform[0:5000],train_y[0:5000])\n",
    "    polyScores.append(svm_model.score(test_X_transform[0:1000], test_y[0:1000]))\n",
    "    print(polyScores[i])\n",
    "\n",
    "for i,e in enumerate(polyScores):\n",
    "    print('C = ', CVals[i], ', Accuracy = ', polyScores[i])"
   ]
  },
  {
   "cell_type": "markdown",
   "metadata": {},
   "source": [
    "Based on n=5000 subset, our ideal hyperparameters are rbf kernel with a regularization constant C=10. Let's now try this on the entire 60,000 sample training set and validate on the full testing set. "
   ]
  },
  {
   "cell_type": "code",
   "execution_count": 45,
   "metadata": {},
   "outputs": [
    {
     "name": "stdout",
     "output_type": "stream",
     "text": [
      "0.9837\n"
     ]
    }
   ],
   "source": [
    "optimal_model = svm.SVC(C = 10, kernel='rbf')\n",
    "optimal_model.fit(train_X_transform, train_y)\n",
    "optimal_score = optimal_model.score(test_X_transform, test_y)\n",
    "print(optimal_score)"
   ]
  }
 ],
 "metadata": {
  "kernelspec": {
   "display_name": "Python 3",
   "language": "python",
   "name": "python3"
  },
  "language_info": {
   "codemirror_mode": {
    "name": "ipython",
    "version": 3
   },
   "file_extension": ".py",
   "mimetype": "text/x-python",
   "name": "python",
   "nbconvert_exporter": "python",
   "pygments_lexer": "ipython3",
   "version": "3.8.3"
  }
 },
 "nbformat": 4,
 "nbformat_minor": 4
}
