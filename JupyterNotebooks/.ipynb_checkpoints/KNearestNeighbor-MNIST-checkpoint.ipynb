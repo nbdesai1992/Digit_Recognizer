{
 "cells": [
  {
   "cell_type": "code",
   "execution_count": 2,
   "metadata": {},
   "outputs": [],
   "source": [
    "from tensorflow.keras.datasets import mnist\n",
    "import numpy as np"
   ]
  },
  {
   "cell_type": "code",
   "execution_count": 3,
   "metadata": {},
   "outputs": [],
   "source": [
    "(train_X, train_y), (test_X, test_y) = mnist.load_data()"
   ]
  },
  {
   "cell_type": "code",
   "execution_count": 4,
   "metadata": {},
   "outputs": [
    {
     "name": "stdout",
     "output_type": "stream",
     "text": [
      "X_train: (60000, 28, 28)\n",
      "Y_train: (60000,)\n",
      "X_test:  (10000, 28, 28)\n",
      "Y_test:  (10000,)\n"
     ]
    }
   ],
   "source": [
    "print('X_train: ' + str(train_X.shape))\n",
    "print('Y_train: ' + str(train_y.shape))\n",
    "print('X_test:  '  + str(test_X.shape))\n",
    "print('Y_test:  '  + str(test_y.shape))"
   ]
  },
  {
   "cell_type": "code",
   "execution_count": 6,
   "metadata": {},
   "outputs": [
    {
     "data": {
      "image/png": "[encoded data removed]",
      "text/plain": [
       "<Figure size 432x288 with 1 Axes>"
      ]
     },
     "metadata": {
      "needs_background": "light"
     },
     "output_type": "display_data"
    }
   ],
   "source": [
    "import matplotlib.pyplot as plt \n",
    "plt.imshow(train_X[1])\n",
    "plt.show()"
   ]
  },
  {
   "cell_type": "code",
   "execution_count": 7,
   "metadata": {},
   "outputs": [],
   "source": [
    "# reshape datasets, create toy model for initial experimentation \n",
    "POC = train_X[0:599]\n",
    "num,d1,d2 = POC.shape\n",
    "POC = POC.reshape((num, d1 * d2))\n",
    "POC_lbl = train_y[0:599]\n",
    "\n",
    "POC_tst = train_X[400:599]\n",
    "num,d1,d2 = POC_tst.shape\n",
    "POC_tst = POC_tst.reshape((num, d1 * d2))\n",
    "POC_lbl_tst = train_y[400:599]\n",
    "\n",
    "num,d1,d2 = train_X.shape\n",
    "train_X_transform = train_X.reshape((num, d1*d2))\n",
    "num,d1,d2 = test_X.shape\n",
    "test_X_transform = test_X.reshape((num, d1*d2))"
   ]
  },
  {
   "cell_type": "code",
   "execution_count": 24,
   "metadata": {},
   "outputs": [],
   "source": [
    "# My implementation of KNN for 2D images\n",
    "\n",
    "# Find euclidean distance between two images \n",
    "def calc_distance(img1_flat, img2_flat):\n",
    "    assert len(img1_flat) == len(img2_flat)\n",
    "    distance = 0.0\n",
    "    for i in range(len(img1_flat)):\n",
    "        distance += (int(img1_flat[i]) - int(img2_flat[i]))**2\n",
    "    return distance**0.5\n",
    "\n",
    "def findNeighbors(k, train_set, chk):\n",
    "    distances = []\n",
    "    for i in range(len(train_set)):\n",
    "        d = calc_distance(chk,train_set[i])\n",
    "        distances.append((i,d))\n",
    "    # sort based on distance\n",
    "    distances.sort(key = lambda tup:tup[1])\n",
    "    #print(distances)\n",
    "    idx_lst = []\n",
    "    # return k-nearest neighbors\n",
    "    for j in range(k):\n",
    "        idx_lst.append(distances[j][0])\n",
    "    return idx_lst\n",
    "    \n",
    "def predictKNN(k, train_set, train_lbls, test_set):\n",
    "    predictions = []\n",
    "    for img in test_set:\n",
    "        idx_lst = findNeighbors(k, train_set, img)\n",
    "        #print(idx_lst)\n",
    "        # populate k frequencies for k nearest neighbors\n",
    "        freqs = {}\n",
    "        for val in idx_lst:\n",
    "            if train_lbls[val] not in freqs:\n",
    "                freqs[train_lbls[val]] = 1\n",
    "            else:\n",
    "                freqs[train_lbls[val]] += 1\n",
    "        pred_val = max(freqs, key=lambda key:freqs[key])\n",
    "        #print(pred_val)\n",
    "        predictions.append(pred_val)\n",
    "    return predictions\n",
    "        \n",
    "def perfAnalysis(predictions, test_lbls):\n",
    "    assert len(predictions) == len(test_lbls)\n",
    "    correct = 0\n",
    "    incorrect = 0\n",
    "    for i in range(len(predictions)):\n",
    "        if predictions[i] == test_lbls[i]:\n",
    "            correct += 1\n",
    "        else:\n",
    "            incorrect += 1\n",
    "    return (correct,incorrect)\n",
    "\n",
    "# test on toy model\n",
    "#pred = predictKNN(15, POC, POC_lbl, POC_tst)\n",
    "#perfAnalysis(pred, POC_lbl_tst)"
   ]
  },
  {
   "cell_type": "markdown",
   "metadata": {},
   "source": [
    "We will start by using $\\sqrt{n}$ as the starting point for $k$, where $n$ is the number of samples in the training dataset. "
   ]
  },
  {
   "cell_type": "code",
   "execution_count": 31,
   "metadata": {},
   "outputs": [
    {
     "name": "stdout",
     "output_type": "stream",
     "text": [
      "[0.86, 0.8733333333333333, 0.8933333333333333, 0.9066666666666666, 0.8666666666666667, 0.86, 0.8266666666666667, 0.82, 0.7733333333333333]\n"
     ]
    }
   ],
   "source": [
    "k_chk = [1,3,5,10,20,30,40,50,100]\n",
    "accuracy = []\n",
    "\n",
    "for i in range(len(k_chk)):\n",
    "    pred = predictKNN(k_chk[i], train_X_transform[0:1500], train_y[0:1500], test_X_transform[0:150])\n",
    "    tup = perfAnalysis(pred,test_y[0:150])\n",
    "    accuracy.append(tup[0] / (tup[0] + tup[1]))\n",
    "    \n",
    "print(accuracy)"
   ]
  },
  {
   "cell_type": "code",
   "execution_count": 32,
   "metadata": {},
   "outputs": [
    {
     "data": {
      "text/plain": [
       "(array([140., 172., 144., 142., 160., 137., 141., 177., 134., 153.]),\n",
       " array([0. , 0.9, 1.8, 2.7, 3.6, 4.5, 5.4, 6.3, 7.2, 8.1, 9. ]),\n",
       " <a list of 10 Patch objects>)"
      ]
     },
     "execution_count": 32,
     "metadata": {},
     "output_type": "execute_result"
    },
    {
     "data": {
      "image/png": "[encoded data removed]",
      "text/plain": [
       "<Figure size 432x288 with 1 Axes>"
      ]
     },
     "metadata": {
      "needs_background": "light"
     },
     "output_type": "display_data"
    }
   ],
   "source": [
    "plt.hist(train_y[0:1500])"
   ]
  },
  {
   "cell_type": "code",
   "execution_count": 36,
   "metadata": {},
   "outputs": [
    {
     "data": {
      "image/png": "[encoded data removed]",
      "text/plain": [
       "<Figure size 432x288 with 1 Axes>"
      ]
     },
     "metadata": {
      "needs_background": "light"
     },
     "output_type": "display_data"
    }
   ],
   "source": [
    "plt.scatter(k_chk,accuracy)\n",
    "plt.show()"
   ]
  },
  {
   "cell_type": "markdown",
   "metadata": {},
   "source": [
    "## Compare to out-of-the-box KNN method from sklearn to fit, predict, and evaluate classifier performance:"
   ]
  },
  {
   "cell_type": "code",
   "execution_count": 38,
   "metadata": {},
   "outputs": [],
   "source": [
    "from sklearn.neighbors import KNeighborsClassifier as KNN\n",
    "from sklearn.metrics import classification_report"
   ]
  },
  {
   "cell_type": "code",
   "execution_count": 58,
   "metadata": {},
   "outputs": [],
   "source": [
    "# k_chk = [1,3,5,10,20,30,40,50,100,150,200,300]\n",
    "k_chk1 = range(1,101,2)\n",
    "accuracy1 = []\n",
    "\n",
    "for i in range(len(k_chk1)):\n",
    "    model = KNN(n_neighbors=k_chk1[i])\n",
    "    model.fit(train_X_transform[0:1200], train_y[0:1200])\n",
    "#predictions = model.predict(test_X_transform)\n",
    "#print(classification_report(test_y, predictions))\n",
    "    accuracy1.append(model.score(test_X_transform[0:200],test_y[0:200]))\n"
   ]
  },
  {
   "cell_type": "code",
   "execution_count": 59,
   "metadata": {},
   "outputs": [
    {
     "data": {
      "image/png": "[encoded data removed]",
      "text/plain": [
       "<Figure size 432x288 with 1 Axes>"
      ]
     },
     "metadata": {
      "needs_background": "light"
     },
     "output_type": "display_data"
    }
   ],
   "source": [
    "plt.scatter(k_chk1,accuracy1)\n",
    "plt.title('KNN Classifier Accuracy vs K (n = 1200)')\n",
    "plt.xlabel('Value of K')\n",
    "plt.ylabel('Classifier Accuracy')\n",
    "plt.show()"
   ]
  },
  {
   "cell_type": "code",
   "execution_count": 62,
   "metadata": {},
   "outputs": [],
   "source": [
    "# k_chk = [1,3,5,10,20,30,40,50,100,150,200,300]\n",
    "k_chk2 = range(1,101,2)\n",
    "accuracy2 = []\n",
    "\n",
    "for i in range(len(k_chk2)):\n",
    "    model = KNN(n_neighbors=k_chk2[i])\n",
    "    model.fit(train_X_transform[0:1800], train_y[0:1800])\n",
    "#predictions = model.predict(test_X_transform)\n",
    "#print(classification_report(test_y, predictions))\n",
    "    accuracy2.append(model.score(test_X_transform[0:300],test_y[0:300]))"
   ]
  },
  {
   "cell_type": "code",
   "execution_count": 63,
   "metadata": {},
   "outputs": [
    {
     "data": {
      "image/png": "[encoded data removed]",
      "text/plain": [
       "<Figure size 432x288 with 1 Axes>"
      ]
     },
     "metadata": {
      "needs_background": "light"
     },
     "output_type": "display_data"
    }
   ],
   "source": [
    "plt.scatter(k_chk2,accuracy2)\n",
    "plt.title('KNN Classifier Accuracy vs K (n = 1800)')\n",
    "plt.xlabel('Value of K')\n",
    "plt.ylabel('Classifier Accuracy')\n",
    "plt.show()"
   ]
  },
  {
   "cell_type": "code",
   "execution_count": 64,
   "metadata": {},
   "outputs": [],
   "source": [
    "# k_chk = [1,3,5,10,20,30,40,50,100,150,200,300]\n",
    "k_chk3 = range(1,101,2)\n",
    "accuracy3 = []\n",
    "\n",
    "for i in range(len(k_chk)):\n",
    "    model = KNN(n_neighbors=k_chk3[i])\n",
    "    model.fit(train_X_transform[0:3600], train_y[0:3600])\n",
    "#predictions = model.predict(test_X_transform)\n",
    "#print(classification_report(test_y, predictions))\n",
    "    accuracy3.append(model.score(test_X_transform[0:600],test_y[0:600]))\n"
   ]
  },
  {
   "cell_type": "code",
   "execution_count": 65,
   "metadata": {},
   "outputs": [
    {
     "data": {
      "image/png": "[encoded data removed]",
      "text/plain": [
       "<Figure size 432x288 with 1 Axes>"
      ]
     },
     "metadata": {
      "needs_background": "light"
     },
     "output_type": "display_data"
    }
   ],
   "source": [
    "plt.scatter(k_chk3,accuracy3)\n",
    "plt.title('KNN Classifier Accuracy vs K (n = 3600)')\n",
    "plt.xlabel('Value of K')\n",
    "plt.ylabel('Classifier Accuracy')\n",
    "plt.show()"
   ]
  },
  {
   "cell_type": "code",
   "execution_count": 66,
   "metadata": {},
   "outputs": [],
   "source": [
    "# k_chk = [1,3,5,10,20,30,40,50,100,150,200,300]\n",
    "k_chk4 = range(1,101,2)\n",
    "accuracy4 = []\n",
    "\n",
    "for i in range(len(k_chk4)):\n",
    "    model = KNN(n_neighbors=k_chk4[i])\n",
    "    model.fit(train_X_transform[0:7200], train_y[0:7200])\n",
    "#predictions = model.predict(test_X_transform)\n",
    "#print(classification_report(test_y, predictions))\n",
    "    accuracy4.append(model.score(test_X_transform[0:1200],test_y[0:1200]))\n"
   ]
  },
  {
   "cell_type": "code",
   "execution_count": 67,
   "metadata": {},
   "outputs": [
    {
     "data": {
      "image/png": "[encoded data removed]",
      "text/plain": [
       "<Figure size 432x288 with 1 Axes>"
      ]
     },
     "metadata": {
      "needs_background": "light"
     },
     "output_type": "display_data"
    }
   ],
   "source": [
    "plt.scatter(k_chk4,accuracy4)\n",
    "plt.title('KNN Classifier Accuracy vs K (n = 7200)')\n",
    "plt.xlabel('Value of K')\n",
    "plt.ylabel('Classifier Accuracy')\n",
    "plt.show()"
   ]
  },
  {
   "cell_type": "code",
   "execution_count": 69,
   "metadata": {},
   "outputs": [
    {
     "name": "stdout",
     "output_type": "stream",
     "text": [
      "0 :  0.9691\n",
      "1 :  0.9705\n",
      "2 :  0.9688\n",
      "3 :  0.9694\n",
      "4 :  0.9659\n"
     ]
    }
   ],
   "source": [
    "# k_chk = [1,3,5,10,20,30,40,50,100,150,200,300]\n",
    "k_chk5 = range(1,11,2)\n",
    "accuracy5 = []\n",
    "\n",
    "for i in range(len(k_chk5)):\n",
    "    model = KNN(n_neighbors=k_chk5[i])\n",
    "    model.fit(train_X_transform, train_y)\n",
    "    accuracy5.append(model.score(test_X_transform,test_y))\n",
    "    print(i, ': ', accuracy5[i])"
   ]
  },
  {
   "cell_type": "code",
   "execution_count": 71,
   "metadata": {},
   "outputs": [
    {
     "name": "stdout",
     "output_type": "stream",
     "text": [
      "3\n"
     ]
    }
   ],
   "source": [
    "# Use this value of k!\n",
    "print(k_chk5[1])"
   ]
  },
  {
   "cell_type": "code",
   "execution_count": 70,
   "metadata": {},
   "outputs": [
    {
     "data": {
      "image/png": "[encoded data removed]",
      "text/plain": [
       "<Figure size 432x288 with 1 Axes>"
      ]
     },
     "metadata": {
      "needs_background": "light"
     },
     "output_type": "display_data"
    }
   ],
   "source": [
    "plt.scatter(k_chk5,accuracy5)\n",
    "plt.title('KNN Classifier Accuracy vs K (n = 60000)')\n",
    "plt.xlabel('Value of K')\n",
    "plt.ylabel('Classifier Accuracy')\n",
    "plt.show()"
   ]
  },
  {
   "cell_type": "markdown",
   "metadata": {},
   "source": [
    "Default value for weights uses a uniform distance (as used in all examples above). Now that we've tuned k, let's see if weighting the points by the inverse of their distance improves the classifier performance. "
   ]
  },
  {
   "cell_type": "code",
   "execution_count": 73,
   "metadata": {},
   "outputs": [
    {
     "name": "stdout",
     "output_type": "stream",
     "text": [
      "0.9717\n"
     ]
    }
   ],
   "source": [
    "model = KNN(n_neighbors=3, weights='distance')\n",
    "model.fit(train_X_transform, train_y)\n",
    "print(model.score(test_X_transform,test_y))"
   ]
  },
  {
   "cell_type": "markdown",
   "metadata": {},
   "source": [
    "Good Sources:  \n",
    "https://machinelearningmastery.com/tutorial-to-implement-k-nearest-neighbors-in-python-from-scratch/  \n",
    "https://www.kaggle.com/marwaf/handwritten-digits-classification-using-knn  \n"
   ]
  }
 ],
 "metadata": {
  "kernelspec": {
   "display_name": "Python 3",
   "language": "python",
   "name": "python3"
  },
  "language_info": {
   "codemirror_mode": {
    "name": "ipython",
    "version": 3
   },
   "file_extension": ".py",
   "mimetype": "text/x-python",
   "name": "python",
   "nbconvert_exporter": "python",
   "pygments_lexer": "ipython3",
   "version": "3.8.3"
  }
 },
 "nbformat": 4,
 "nbformat_minor": 4
}
