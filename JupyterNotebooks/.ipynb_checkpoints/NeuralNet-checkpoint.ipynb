{
 "cells": [
  {
   "cell_type": "code",
   "execution_count": 31,
   "metadata": {},
   "outputs": [],
   "source": [
    "from tensorflow.keras.datasets import mnist\n",
    "import numpy as np\n",
    "import matplotlib.pyplot as plt"
   ]
  },
  {
   "cell_type": "code",
   "execution_count": 3,
   "metadata": {},
   "outputs": [],
   "source": [
    "(train_X, train_y), (test_X, test_y) = mnist.load_data()"
   ]
  },
  {
   "cell_type": "code",
   "execution_count": 4,
   "metadata": {},
   "outputs": [],
   "source": [
    "# reshape datasets, create toy model for initial experimentation \n",
    "POC = train_X[0:599]\n",
    "num,d1,d2 = POC.shape\n",
    "POC = POC.reshape((num, d1 * d2))\n",
    "POC_lbl = train_y[0:599]\n",
    "\n",
    "POC_tst = train_X[400:599]\n",
    "num,d1,d2 = POC_tst.shape\n",
    "POC_tst = POC_tst.reshape((num, d1 * d2))\n",
    "POC_lbl_tst = train_y[400:599]\n",
    "\n",
    "num,d1,d2 = train_X.shape\n",
    "train_X_transform = train_X.reshape((num, d1*d2))\n",
    "num,d1,d2 = test_X.shape\n",
    "test_X_transform = test_X.reshape((num, d1*d2))"
   ]
  },
  {
   "cell_type": "code",
   "execution_count": 25,
   "metadata": {},
   "outputs": [],
   "source": [
    "from sklearn.neural_network import MLPClassifier"
   ]
  },
  {
   "cell_type": "code",
   "execution_count": 26,
   "metadata": {},
   "outputs": [
    {
     "name": "stdout",
     "output_type": "stream",
     "text": [
      "0.9575\n"
     ]
    }
   ],
   "source": [
    "nnet = MLPClassifier(hidden_layer_sizes=(300,), activation='relu', max_iter=250, solver='sgd', learning_rate_init=.001)\n",
    "nnet.fit(train_X_transform,train_y)\n",
    "print(nnet.score(test_X_transform,test_y))"
   ]
  },
  {
   "cell_type": "code",
   "execution_count": 29,
   "metadata": {},
   "outputs": [
    {
     "name": "stdout",
     "output_type": "stream",
     "text": [
      "0.9637\n"
     ]
    }
   ],
   "source": [
    "nnet = MLPClassifier(hidden_layer_sizes=(300,), activation='logistic', max_iter=250, solver='sgd', learning_rate_init=.001)\n",
    "nnet.fit(train_X_transform,train_y)\n",
    "print(nnet.score(test_X_transform,test_y))"
   ]
  },
  {
   "cell_type": "code",
   "execution_count": 50,
   "metadata": {},
   "outputs": [
    {
     "name": "stdout",
     "output_type": "stream",
     "text": [
      "5 :  0.126\n",
      "10 :  0.219\n",
      "20 :  0.126\n",
      "40 :  0.509\n",
      "50 :  0.766\n",
      "60 :  0.847\n",
      "70 :  0.796\n",
      "100 :  0.813\n",
      "150 :  0.839\n",
      "200 :  0.836\n",
      "300 :  0.865\n",
      "400 :  0.875\n"
     ]
    }
   ],
   "source": [
    "# Tune size of hidden layers \n",
    "sizes = [5,10,20,40,50,60,70,100,150,200,300,400]\n",
    "scores = []\n",
    "\n",
    "for i in range(len(sizes)): \n",
    "    nnet = MLPClassifier(hidden_layer_sizes=(sizes[i],), activation='relu', max_iter=350, solver='sgd', learning_rate_init=.001)\n",
    "    nnet.fit(train_X_transform[0:5000],train_y[0:5000])\n",
    "    score = nnet.score(test_X_transform[0:1000],test_y[0:1000])\n",
    "    scores.append(score)\n",
    "    print(sizes[i], ': ', score)"
   ]
  },
  {
   "cell_type": "code",
   "execution_count": 51,
   "metadata": {},
   "outputs": [
    {
     "data": {
      "image/png": "[encoded data removed]",
      "text/plain": [
       "<Figure size 432x288 with 1 Axes>"
      ]
     },
     "metadata": {
      "needs_background": "light"
     },
     "output_type": "display_data"
    }
   ],
   "source": [
    "plt.scatter(sizes,scores)\n",
    "plt.title('Relu Neural Network Classification Accuracy vs Hidden Layer Size (n = 5000)')\n",
    "plt.xlabel('Hidden Layer Size')\n",
    "plt.ylabel('Classifier Accuracy')\n",
    "plt.show()"
   ]
  },
  {
   "cell_type": "code",
   "execution_count": null,
   "metadata": {},
   "outputs": [
    {
     "name": "stdout",
     "output_type": "stream",
     "text": [
      "5 :  0.756\n"
     ]
    },
    {
     "name": "stderr",
     "output_type": "stream",
     "text": [
      "/Users/nealdesai/opt/anaconda3/lib/python3.8/site-packages/sklearn/neural_network/_multilayer_perceptron.py:582: ConvergenceWarning: Stochastic Optimizer: Maximum iterations (350) reached and the optimization hasn't converged yet.\n",
      "  warnings.warn(\n"
     ]
    },
    {
     "name": "stdout",
     "output_type": "stream",
     "text": [
      "10 :  0.804\n"
     ]
    },
    {
     "name": "stderr",
     "output_type": "stream",
     "text": [
      "/Users/nealdesai/opt/anaconda3/lib/python3.8/site-packages/sklearn/neural_network/_multilayer_perceptron.py:582: ConvergenceWarning: Stochastic Optimizer: Maximum iterations (350) reached and the optimization hasn't converged yet.\n",
      "  warnings.warn(\n"
     ]
    },
    {
     "name": "stdout",
     "output_type": "stream",
     "text": [
      "20 :  0.846\n"
     ]
    },
    {
     "name": "stderr",
     "output_type": "stream",
     "text": [
      "/Users/nealdesai/opt/anaconda3/lib/python3.8/site-packages/sklearn/neural_network/_multilayer_perceptron.py:582: ConvergenceWarning: Stochastic Optimizer: Maximum iterations (350) reached and the optimization hasn't converged yet.\n",
      "  warnings.warn(\n"
     ]
    },
    {
     "name": "stdout",
     "output_type": "stream",
     "text": [
      "40 :  0.864\n"
     ]
    },
    {
     "name": "stderr",
     "output_type": "stream",
     "text": [
      "/Users/nealdesai/opt/anaconda3/lib/python3.8/site-packages/sklearn/neural_network/_multilayer_perceptron.py:582: ConvergenceWarning: Stochastic Optimizer: Maximum iterations (350) reached and the optimization hasn't converged yet.\n",
      "  warnings.warn(\n"
     ]
    },
    {
     "name": "stdout",
     "output_type": "stream",
     "text": [
      "50 :  0.863\n"
     ]
    },
    {
     "name": "stderr",
     "output_type": "stream",
     "text": [
      "/Users/nealdesai/opt/anaconda3/lib/python3.8/site-packages/sklearn/neural_network/_multilayer_perceptron.py:582: ConvergenceWarning: Stochastic Optimizer: Maximum iterations (350) reached and the optimization hasn't converged yet.\n",
      "  warnings.warn(\n"
     ]
    },
    {
     "name": "stdout",
     "output_type": "stream",
     "text": [
      "60 :  0.864\n"
     ]
    },
    {
     "name": "stderr",
     "output_type": "stream",
     "text": [
      "/Users/nealdesai/opt/anaconda3/lib/python3.8/site-packages/sklearn/neural_network/_multilayer_perceptron.py:582: ConvergenceWarning: Stochastic Optimizer: Maximum iterations (350) reached and the optimization hasn't converged yet.\n",
      "  warnings.warn(\n"
     ]
    },
    {
     "name": "stdout",
     "output_type": "stream",
     "text": [
      "70 :  0.869\n"
     ]
    }
   ],
   "source": [
    "# Tune size of hidden layers \n",
    "log_sizes = [5,10,20,40,50,60,70,100,150,200,300,400]\n",
    "log_scores = []\n",
    "\n",
    "for i in range(len(log_sizes)): \n",
    "    nnet = MLPClassifier(hidden_layer_sizes=(sizes[i],), activation='logistic', max_iter=350, solver='sgd', learning_rate_init=.001)\n",
    "    nnet.fit(train_X_transform[0:5000],train_y[0:5000])\n",
    "    score = nnet.score(test_X_transform[0:1000],test_y[0:1000])\n",
    "    log_scores.append(score)\n",
    "    print(log_sizes[i], ': ', score)"
   ]
  },
  {
   "cell_type": "code",
   "execution_count": null,
   "metadata": {},
   "outputs": [],
   "source": [
    "plt.scatter(log_sizes,log_scores)\n",
    "plt.title('Logistic Neural Network Classification Accuracy vs Hidden Layer Size (n = 5000)')\n",
    "plt.xlabel('Hidden Layer Size')\n",
    "plt.ylabel('Classifier Accuracy')\n",
    "plt.show()"
   ]
  },
  {
   "cell_type": "code",
   "execution_count": null,
   "metadata": {},
   "outputs": [],
   "source": [
    "# Tune size of hidden layers \n",
    "tanh_sizes = [5,10,20,40,50,60,70,100,150,200,300,400]\n",
    "tanh_scores = []\n",
    "\n",
    "for i in range(len(tanh_sizes)): \n",
    "    nnet = MLPClassifier(hidden_layer_sizes=(sizes[i],), activation='tanh', max_iter=350, solver='sgd', learning_rate_init=.001)\n",
    "    nnet.fit(train_X_transform[0:5000],train_y[0:5000])\n",
    "    score = nnet.score(test_X_transform[0:1000],test_y[0:1000])\n",
    "    tanh_scores.append(score)\n",
    "    print(tanh_sizes[i], ': ', score)"
   ]
  },
  {
   "cell_type": "code",
   "execution_count": null,
   "metadata": {},
   "outputs": [],
   "source": [
    "plt.scatter(tanh_sizes,tanh_scores)\n",
    "plt.title('Hyperbolic Tangent Neural Network Classification Accuracy vs Hidden Layer Size (n = 5000)')\n",
    "plt.xlabel('Hidden Layer Size')\n",
    "plt.ylabel('Classifier Accuracy')\n",
    "plt.show()"
   ]
  },
  {
   "cell_type": "code",
   "execution_count": null,
   "metadata": {},
   "outputs": [],
   "source": [
    "# Tune learning rate\n",
    "rates = [0.0001,0.001,0.01,0.1,1]\n",
    "relu_learn_scores = []\n",
    "\n",
    "for i in range(len(rates)): \n",
    "    nnet = MLPClassifier(hidden_layer_sizes=(300,), activation='relu', max_iter=350, solver='sgd', learning_rate_init=rates[i])\n",
    "    nnet.fit(train_X_transform[0:5000],train_y[0:5000])\n",
    "    score = nnet.score(test_X_transform[0:1000],test_y[0:1000])\n",
    "    relu_learn_scores.append(score)\n",
    "    print('learning rate of ', rates[i], ': ', score)"
   ]
  },
  {
   "cell_type": "code",
   "execution_count": null,
   "metadata": {},
   "outputs": [],
   "source": [
    "# Tune learning rate \n",
    "rates = [0.00001,0.0001,0.001,0.01,0.1,1]\n",
    "log_learn_scores = []\n",
    "\n",
    "for i in range(len(rates)): \n",
    "    nnet = MLPClassifier(hidden_layer_sizes=(300,), activation='logistic', max_iter=350, solver='sgd', learning_rate_init=rates[i])\n",
    "    nnet.fit(train_X_transform[0:5000],train_y[0:5000])\n",
    "    score = nnet.score(test_X_transform[0:1000],test_y[0:1000])\n",
    "    log_learn_scores.append(score)\n",
    "    print('learning rate of ', rates[i], ': ', score)"
   ]
  },
  {
   "cell_type": "code",
   "execution_count": null,
   "metadata": {},
   "outputs": [],
   "source": [
    "# Tune learning rate \n",
    "rates = [0.0001,0.001,0.01,0.1,1]\n",
    "tanh_learn_scores = []\n",
    "\n",
    "for i in range(len(rates)): \n",
    "    nnet = MLPClassifier(hidden_layer_sizes=(300,), activation='tanh', max_iter=350, solver='sgd', learning_rate_init=rates[i])\n",
    "    nnet.fit(train_X_transform[0:5000],train_y[0:5000])\n",
    "    score = nnet.score(test_X_transform[0:1000],test_y[0:1000])\n",
    "    tanh_learn_scores.append(score)\n",
    "    print('learning rate of ', rates[i], ': ', score)"
   ]
  },
  {
   "cell_type": "code",
   "execution_count": null,
   "metadata": {},
   "outputs": [],
   "source": []
  }
 ],
 "metadata": {
  "kernelspec": {
   "display_name": "Python 3",
   "language": "python",
   "name": "python3"
  },
  "language_info": {
   "codemirror_mode": {
    "name": "ipython",
    "version": 3
   },
   "file_extension": ".py",
   "mimetype": "text/x-python",
   "name": "python",
   "nbconvert_exporter": "python",
   "pygments_lexer": "ipython3",
   "version": "3.8.3"
  }
 },
 "nbformat": 4,
 "nbformat_minor": 4
}
