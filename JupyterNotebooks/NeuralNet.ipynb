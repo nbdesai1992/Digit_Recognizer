{
 "cells": [
  {
   "cell_type": "code",
   "execution_count": 31,
   "metadata": {},
   "outputs": [],
   "source": [
    "from tensorflow.keras.datasets import mnist\n",
    "import numpy as np\n",
    "import matplotlib.pyplot as plt"
   ]
  },
  {
   "cell_type": "code",
   "execution_count": 3,
   "metadata": {},
   "outputs": [],
   "source": [
    "(train_X, train_y), (test_X, test_y) = mnist.load_data()"
   ]
  },
  {
   "cell_type": "code",
   "execution_count": 4,
   "metadata": {},
   "outputs": [],
   "source": [
    "# reshape datasets, create toy model for initial experimentation \n",
    "POC = train_X[0:599]\n",
    "num,d1,d2 = POC.shape\n",
    "POC = POC.reshape((num, d1 * d2))\n",
    "POC_lbl = train_y[0:599]\n",
    "\n",
    "POC_tst = train_X[400:599]\n",
    "num,d1,d2 = POC_tst.shape\n",
    "POC_tst = POC_tst.reshape((num, d1 * d2))\n",
    "POC_lbl_tst = train_y[400:599]\n",
    "\n",
    "num,d1,d2 = train_X.shape\n",
    "train_X_transform = train_X.reshape((num, d1*d2))\n",
    "num,d1,d2 = test_X.shape\n",
    "test_X_transform = test_X.reshape((num, d1*d2))"
   ]
  },
  {
   "cell_type": "code",
   "execution_count": 25,
   "metadata": {},
   "outputs": [],
   "source": [
    "from sklearn.neural_network import MLPClassifier"
   ]
  },
  {
   "cell_type": "code",
   "execution_count": 50,
   "metadata": {},
   "outputs": [
    {
     "name": "stdout",
     "output_type": "stream",
     "text": [
      "5 :  0.126\n",
      "10 :  0.219\n",
      "20 :  0.126\n",
      "40 :  0.509\n",
      "50 :  0.766\n",
      "60 :  0.847\n",
      "70 :  0.796\n",
      "100 :  0.813\n",
      "150 :  0.839\n",
      "200 :  0.836\n",
      "300 :  0.865\n",
      "400 :  0.875\n"
     ]
    }
   ],
   "source": [
    "# Tune size of hidden layers \n",
    "sizes = [5,10,20,40,50,60,70,100,150,200,300,400]\n",
    "scores = []\n",
    "\n",
    "for i in range(len(sizes)): \n",
    "    nnet = MLPClassifier(hidden_layer_sizes=(sizes[i],), activation='relu', max_iter=350, solver='sgd', learning_rate_init=.001)\n",
    "    nnet.fit(train_X_transform[0:5000],train_y[0:5000])\n",
    "    score = nnet.score(test_X_transform[0:1000],test_y[0:1000])\n",
    "    scores.append(score)\n",
    "    print(sizes[i], ': ', score)"
   ]
  },
  {
   "cell_type": "code",
   "execution_count": 51,
   "metadata": {},
   "outputs": [
    {
     "data": {
      "image/png": "[encoded data removed]",
      "text/plain": [
       "<Figure size 432x288 with 1 Axes>"
      ]
     },
     "metadata": {
      "needs_background": "light"
     },
     "output_type": "display_data"
    }
   ],
   "source": [
    "plt.scatter(sizes,scores)\n",
    "plt.title('Relu Neural Network Classification Accuracy vs Hidden Layer Size (n = 5000)')\n",
    "plt.xlabel('Hidden Layer Size')\n",
    "plt.ylabel('Classifier Accuracy')\n",
    "plt.show()"
   ]
  },
  {
   "cell_type": "code",
   "execution_count": 52,
   "metadata": {},
   "outputs": [
    {
     "name": "stdout",
     "output_type": "stream",
     "text": [
      "5 :  0.756\n"
     ]
    },
    {
     "name": "stderr",
     "output_type": "stream",
     "text": [
      "/Users/nealdesai/opt/anaconda3/lib/python3.8/site-packages/sklearn/neural_network/_multilayer_perceptron.py:582: ConvergenceWarning: Stochastic Optimizer: Maximum iterations (350) reached and the optimization hasn't converged yet.\n",
      "  warnings.warn(\n"
     ]
    },
    {
     "name": "stdout",
     "output_type": "stream",
     "text": [
      "10 :  0.804\n"
     ]
    },
    {
     "name": "stderr",
     "output_type": "stream",
     "text": [
      "/Users/nealdesai/opt/anaconda3/lib/python3.8/site-packages/sklearn/neural_network/_multilayer_perceptron.py:582: ConvergenceWarning: Stochastic Optimizer: Maximum iterations (350) reached and the optimization hasn't converged yet.\n",
      "  warnings.warn(\n"
     ]
    },
    {
     "name": "stdout",
     "output_type": "stream",
     "text": [
      "20 :  0.846\n"
     ]
    },
    {
     "name": "stderr",
     "output_type": "stream",
     "text": [
      "/Users/nealdesai/opt/anaconda3/lib/python3.8/site-packages/sklearn/neural_network/_multilayer_perceptron.py:582: ConvergenceWarning: Stochastic Optimizer: Maximum iterations (350) reached and the optimization hasn't converged yet.\n",
      "  warnings.warn(\n"
     ]
    },
    {
     "name": "stdout",
     "output_type": "stream",
     "text": [
      "40 :  0.864\n"
     ]
    },
    {
     "name": "stderr",
     "output_type": "stream",
     "text": [
      "/Users/nealdesai/opt/anaconda3/lib/python3.8/site-packages/sklearn/neural_network/_multilayer_perceptron.py:582: ConvergenceWarning: Stochastic Optimizer: Maximum iterations (350) reached and the optimization hasn't converged yet.\n",
      "  warnings.warn(\n"
     ]
    },
    {
     "name": "stdout",
     "output_type": "stream",
     "text": [
      "50 :  0.863\n"
     ]
    },
    {
     "name": "stderr",
     "output_type": "stream",
     "text": [
      "/Users/nealdesai/opt/anaconda3/lib/python3.8/site-packages/sklearn/neural_network/_multilayer_perceptron.py:582: ConvergenceWarning: Stochastic Optimizer: Maximum iterations (350) reached and the optimization hasn't converged yet.\n",
      "  warnings.warn(\n"
     ]
    },
    {
     "name": "stdout",
     "output_type": "stream",
     "text": [
      "60 :  0.864\n"
     ]
    },
    {
     "name": "stderr",
     "output_type": "stream",
     "text": [
      "/Users/nealdesai/opt/anaconda3/lib/python3.8/site-packages/sklearn/neural_network/_multilayer_perceptron.py:582: ConvergenceWarning: Stochastic Optimizer: Maximum iterations (350) reached and the optimization hasn't converged yet.\n",
      "  warnings.warn(\n"
     ]
    },
    {
     "name": "stdout",
     "output_type": "stream",
     "text": [
      "70 :  0.869\n"
     ]
    },
    {
     "name": "stderr",
     "output_type": "stream",
     "text": [
      "/Users/nealdesai/opt/anaconda3/lib/python3.8/site-packages/sklearn/neural_network/_multilayer_perceptron.py:582: ConvergenceWarning: Stochastic Optimizer: Maximum iterations (350) reached and the optimization hasn't converged yet.\n",
      "  warnings.warn(\n"
     ]
    },
    {
     "name": "stdout",
     "output_type": "stream",
     "text": [
      "100 :  0.87\n"
     ]
    },
    {
     "name": "stderr",
     "output_type": "stream",
     "text": [
      "/Users/nealdesai/opt/anaconda3/lib/python3.8/site-packages/sklearn/neural_network/_multilayer_perceptron.py:582: ConvergenceWarning: Stochastic Optimizer: Maximum iterations (350) reached and the optimization hasn't converged yet.\n",
      "  warnings.warn(\n"
     ]
    },
    {
     "name": "stdout",
     "output_type": "stream",
     "text": [
      "150 :  0.895\n"
     ]
    },
    {
     "name": "stderr",
     "output_type": "stream",
     "text": [
      "/Users/nealdesai/opt/anaconda3/lib/python3.8/site-packages/sklearn/neural_network/_multilayer_perceptron.py:582: ConvergenceWarning: Stochastic Optimizer: Maximum iterations (350) reached and the optimization hasn't converged yet.\n",
      "  warnings.warn(\n"
     ]
    },
    {
     "name": "stdout",
     "output_type": "stream",
     "text": [
      "200 :  0.896\n"
     ]
    },
    {
     "name": "stderr",
     "output_type": "stream",
     "text": [
      "/Users/nealdesai/opt/anaconda3/lib/python3.8/site-packages/sklearn/neural_network/_multilayer_perceptron.py:582: ConvergenceWarning: Stochastic Optimizer: Maximum iterations (350) reached and the optimization hasn't converged yet.\n",
      "  warnings.warn(\n"
     ]
    },
    {
     "name": "stdout",
     "output_type": "stream",
     "text": [
      "300 :  0.88\n",
      "400 :  0.899\n"
     ]
    },
    {
     "name": "stderr",
     "output_type": "stream",
     "text": [
      "/Users/nealdesai/opt/anaconda3/lib/python3.8/site-packages/sklearn/neural_network/_multilayer_perceptron.py:582: ConvergenceWarning: Stochastic Optimizer: Maximum iterations (350) reached and the optimization hasn't converged yet.\n",
      "  warnings.warn(\n"
     ]
    }
   ],
   "source": [
    "# Tune size of hidden layers \n",
    "log_sizes = [5,10,20,40,50,60,70,100,150,200,300,400]\n",
    "log_scores = []\n",
    "\n",
    "for i in range(len(log_sizes)): \n",
    "    nnet = MLPClassifier(hidden_layer_sizes=(sizes[i],), activation='logistic', max_iter=350, solver='sgd', learning_rate_init=.001)\n",
    "    nnet.fit(train_X_transform[0:5000],train_y[0:5000])\n",
    "    score = nnet.score(test_X_transform[0:1000],test_y[0:1000])\n",
    "    log_scores.append(score)\n",
    "    print(log_sizes[i], ': ', score)"
   ]
  },
  {
   "cell_type": "code",
   "execution_count": 53,
   "metadata": {},
   "outputs": [
    {
     "data": {
      "image/png": "[encoded data removed]",
      "text/plain": [
       "<Figure size 432x288 with 1 Axes>"
      ]
     },
     "metadata": {
      "needs_background": "light"
     },
     "output_type": "display_data"
    }
   ],
   "source": [
    "plt.scatter(log_sizes,log_scores)\n",
    "plt.title('Logistic Neural Network Classification Accuracy vs Hidden Layer Size (n = 5000)')\n",
    "plt.xlabel('Hidden Layer Size')\n",
    "plt.ylabel('Classifier Accuracy')\n",
    "plt.show()"
   ]
  },
  {
   "cell_type": "code",
   "execution_count": 54,
   "metadata": {},
   "outputs": [
    {
     "name": "stdout",
     "output_type": "stream",
     "text": [
      "5 :  0.7\n",
      "10 :  0.816\n",
      "20 :  0.854\n",
      "40 :  0.874\n",
      "50 :  0.884\n",
      "60 :  0.878\n"
     ]
    },
    {
     "name": "stderr",
     "output_type": "stream",
     "text": [
      "/Users/nealdesai/opt/anaconda3/lib/python3.8/site-packages/sklearn/neural_network/_multilayer_perceptron.py:582: ConvergenceWarning: Stochastic Optimizer: Maximum iterations (350) reached and the optimization hasn't converged yet.\n",
      "  warnings.warn(\n"
     ]
    },
    {
     "name": "stdout",
     "output_type": "stream",
     "text": [
      "70 :  0.888\n",
      "100 :  0.877\n"
     ]
    },
    {
     "name": "stderr",
     "output_type": "stream",
     "text": [
      "/Users/nealdesai/opt/anaconda3/lib/python3.8/site-packages/sklearn/neural_network/_multilayer_perceptron.py:582: ConvergenceWarning: Stochastic Optimizer: Maximum iterations (350) reached and the optimization hasn't converged yet.\n",
      "  warnings.warn(\n"
     ]
    },
    {
     "name": "stdout",
     "output_type": "stream",
     "text": [
      "150 :  0.886\n",
      "200 :  0.875\n",
      "300 :  0.887\n",
      "400 :  0.893\n"
     ]
    }
   ],
   "source": [
    "# Tune size of hidden layers \n",
    "tanh_sizes = [5,10,20,40,50,60,70,100,150,200,300,400]\n",
    "tanh_scores = []\n",
    "\n",
    "for i in range(len(tanh_sizes)): \n",
    "    nnet = MLPClassifier(hidden_layer_sizes=(sizes[i],), activation='tanh', max_iter=350, solver='sgd', learning_rate_init=.001)\n",
    "    nnet.fit(train_X_transform[0:5000],train_y[0:5000])\n",
    "    score = nnet.score(test_X_transform[0:1000],test_y[0:1000])\n",
    "    tanh_scores.append(score)\n",
    "    print(tanh_sizes[i], ': ', score)"
   ]
  },
  {
   "cell_type": "code",
   "execution_count": 55,
   "metadata": {},
   "outputs": [
    {
     "data": {
      "image/png": "[encoded data removed]",
      "text/plain": [
       "<Figure size 432x288 with 1 Axes>"
      ]
     },
     "metadata": {
      "needs_background": "light"
     },
     "output_type": "display_data"
    }
   ],
   "source": [
    "plt.scatter(tanh_sizes,tanh_scores)\n",
    "plt.title('Hyperbolic Tangent Neural Network Classification Accuracy vs Hidden Layer Size (n = 5000)')\n",
    "plt.xlabel('Hidden Layer Size')\n",
    "plt.ylabel('Classifier Accuracy')\n",
    "plt.show()"
   ]
  },
  {
   "cell_type": "code",
   "execution_count": 56,
   "metadata": {},
   "outputs": [
    {
     "name": "stdout",
     "output_type": "stream",
     "text": [
      "learning rate of  0.0001 :  0.864\n",
      "learning rate of  0.001 :  0.879\n",
      "learning rate of  0.01 :  0.11\n",
      "learning rate of  0.1 :  0.127\n",
      "learning rate of  1 :  0.11\n"
     ]
    }
   ],
   "source": [
    "# Tune learning rate\n",
    "rates = [0.0001,0.001,0.01,0.1,1]\n",
    "relu_learn_scores = []\n",
    "\n",
    "for i in range(len(rates)): \n",
    "    nnet = MLPClassifier(hidden_layer_sizes=(300,), activation='relu', max_iter=350, solver='sgd', learning_rate_init=rates[i])\n",
    "    nnet.fit(train_X_transform[0:5000],train_y[0:5000])\n",
    "    score = nnet.score(test_X_transform[0:1000],test_y[0:1000])\n",
    "    relu_learn_scores.append(score)\n",
    "    print('learning rate of ', rates[i], ': ', score)"
   ]
  },
  {
   "cell_type": "code",
   "execution_count": 57,
   "metadata": {},
   "outputs": [
    {
     "name": "stderr",
     "output_type": "stream",
     "text": [
      "/Users/nealdesai/opt/anaconda3/lib/python3.8/site-packages/sklearn/neural_network/_multilayer_perceptron.py:582: ConvergenceWarning: Stochastic Optimizer: Maximum iterations (350) reached and the optimization hasn't converged yet.\n",
      "  warnings.warn(\n"
     ]
    },
    {
     "name": "stdout",
     "output_type": "stream",
     "text": [
      "learning rate of  1e-05 :  0.761\n"
     ]
    },
    {
     "name": "stderr",
     "output_type": "stream",
     "text": [
      "/Users/nealdesai/opt/anaconda3/lib/python3.8/site-packages/sklearn/neural_network/_multilayer_perceptron.py:582: ConvergenceWarning: Stochastic Optimizer: Maximum iterations (350) reached and the optimization hasn't converged yet.\n",
      "  warnings.warn(\n"
     ]
    },
    {
     "name": "stdout",
     "output_type": "stream",
     "text": [
      "learning rate of  0.0001 :  0.869\n"
     ]
    },
    {
     "name": "stderr",
     "output_type": "stream",
     "text": [
      "/Users/nealdesai/opt/anaconda3/lib/python3.8/site-packages/sklearn/neural_network/_multilayer_perceptron.py:582: ConvergenceWarning: Stochastic Optimizer: Maximum iterations (350) reached and the optimization hasn't converged yet.\n",
      "  warnings.warn(\n"
     ]
    },
    {
     "name": "stdout",
     "output_type": "stream",
     "text": [
      "learning rate of  0.001 :  0.884\n",
      "learning rate of  0.01 :  0.922\n",
      "learning rate of  0.1 :  0.769\n",
      "learning rate of  1 :  0.096\n"
     ]
    }
   ],
   "source": [
    "# Tune learning rate \n",
    "rates = [0.00001,0.0001,0.001,0.01,0.1,1]\n",
    "log_learn_scores = []\n",
    "\n",
    "for i in range(len(rates)): \n",
    "    nnet = MLPClassifier(hidden_layer_sizes=(300,), activation='logistic', max_iter=350, solver='sgd', learning_rate_init=rates[i])\n",
    "    nnet.fit(train_X_transform[0:5000],train_y[0:5000])\n",
    "    score = nnet.score(test_X_transform[0:1000],test_y[0:1000])\n",
    "    log_learn_scores.append(score)\n",
    "    print('learning rate of ', rates[i], ': ', score)"
   ]
  },
  {
   "cell_type": "code",
   "execution_count": 58,
   "metadata": {},
   "outputs": [
    {
     "name": "stderr",
     "output_type": "stream",
     "text": [
      "/Users/nealdesai/opt/anaconda3/lib/python3.8/site-packages/sklearn/neural_network/_multilayer_perceptron.py:582: ConvergenceWarning: Stochastic Optimizer: Maximum iterations (350) reached and the optimization hasn't converged yet.\n",
      "  warnings.warn(\n"
     ]
    },
    {
     "name": "stdout",
     "output_type": "stream",
     "text": [
      "learning rate of  0.0001 :  0.816\n",
      "learning rate of  0.001 :  0.888\n",
      "learning rate of  0.01 :  0.865\n",
      "learning rate of  0.1 :  0.19\n",
      "learning rate of  1 :  0.107\n"
     ]
    }
   ],
   "source": [
    "# Tune learning rate \n",
    "rates = [0.0001,0.001,0.01,0.1,1]\n",
    "tanh_learn_scores = []\n",
    "\n",
    "for i in range(len(rates)): \n",
    "    nnet = MLPClassifier(hidden_layer_sizes=(300,), activation='tanh', max_iter=350, solver='sgd', learning_rate_init=rates[i])\n",
    "    nnet.fit(train_X_transform[0:5000],train_y[0:5000])\n",
    "    score = nnet.score(test_X_transform[0:1000],test_y[0:1000])\n",
    "    tanh_learn_scores.append(score)\n",
    "    print('learning rate of ', rates[i], ': ', score)"
   ]
  },
  {
   "cell_type": "code",
   "execution_count": 59,
   "metadata": {},
   "outputs": [
    {
     "name": "stdout",
     "output_type": "stream",
     "text": [
      "Optimal Relu NN Accuracy:  0.9562\n"
     ]
    }
   ],
   "source": [
    "#Optimal Relu\n",
    "nnet = MLPClassifier(hidden_layer_sizes=(300,), activation='relu', max_iter=350, solver='sgd', learning_rate_init=0.001)\n",
    "nnet.fit(train_X_transform,train_y)\n",
    "print('Optimal Relu NN Accuracy: ', nnet.score(test_X_transform,test_y))"
   ]
  },
  {
   "cell_type": "code",
   "execution_count": 60,
   "metadata": {},
   "outputs": [
    {
     "name": "stdout",
     "output_type": "stream",
     "text": [
      "Optimal Logistic NN Accuracy:  0.962\n"
     ]
    }
   ],
   "source": [
    "#Optimal Logistic\n",
    "nnet = MLPClassifier(hidden_layer_sizes=(300,), activation='logistic', max_iter=350, solver='sgd', learning_rate_init=0.01)\n",
    "nnet.fit(train_X_transform,train_y)\n",
    "print('Optimal Logistic NN Accuracy: ', nnet.score(test_X_transform,test_y))"
   ]
  },
  {
   "cell_type": "code",
   "execution_count": 61,
   "metadata": {},
   "outputs": [
    {
     "name": "stdout",
     "output_type": "stream",
     "text": [
      "Optimal tanh NN Accuracy:  0.9715\n"
     ]
    }
   ],
   "source": [
    "#Optimal hyperbolic tangent\n",
    "nnet = MLPClassifier(hidden_layer_sizes=(300,), activation='tanh', max_iter=350, solver='sgd', learning_rate_init=0.001)\n",
    "nnet.fit(train_X_transform,train_y)\n",
    "print('Optimal tanh NN Accuracy: ', nnet.score(test_X_transform,test_y))"
   ]
  },
  {
   "cell_type": "code",
   "execution_count": 75,
   "metadata": {},
   "outputs": [
    {
     "data": {
      "text/plain": [
       "[Text(0, 0.5, 'Classifier Accuracy')]"
      ]
     },
     "execution_count": 75,
     "metadata": {},
     "output_type": "execute_result"
    },
    {
     "data": {
      "image/png": "[encoded data removed]",
      "text/plain": [
       "<Figure size 576x576 with 3 Axes>"
      ]
     },
     "metadata": {
      "needs_background": "light"
     },
     "output_type": "display_data"
    }
   ],
   "source": [
    "\n",
    "fig, (ax1, ax2, ax3) = plt.subplots(3, sharex=True, sharey=True, figsize=(8,8))\n",
    "fig.suptitle('Tuning neural network learning rate for various activation functions')\n",
    "ax1.set_title('ReLu: Accuracy vs Learning Rate')\n",
    "ax1.scatter(rates, relu_learn_scores)\n",
    "ax2.set_title('Logistic: Accuracy vs Learning Rate')\n",
    "ax2.scatter(rates, log_learn_scores[1:])\n",
    "ax3.set_title('tanh: Accuracy vs Learning Rate')\n",
    "ax3.scatter(rates, tanh_learn_scores)\n",
    "plt.xscale('log')\n",
    "plt.xlabel('Learning Rate')\n",
    "ax1.set(ylabel='Classifier Accuracy')\n",
    "ax2.set(ylabel='Classifier Accuracy')\n",
    "ax3.set(ylabel='Classifier Accuracy')\n"
   ]
  },
  {
   "cell_type": "markdown",
   "metadata": {},
   "source": []
  }
 ],
 "metadata": {
  "kernelspec": {
   "display_name": "Python 3",
   "language": "python",
   "name": "python3"
  },
  "language_info": {
   "codemirror_mode": {
    "name": "ipython",
    "version": 3
   },
   "file_extension": ".py",
   "mimetype": "text/x-python",
   "name": "python",
   "nbconvert_exporter": "python",
   "pygments_lexer": "ipython3",
   "version": "3.8.3"
  }
 },
 "nbformat": 4,
 "nbformat_minor": 4
}
